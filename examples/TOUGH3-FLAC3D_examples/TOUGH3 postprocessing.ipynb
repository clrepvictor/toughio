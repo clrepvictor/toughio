{
 "cells": [
  {
   "cell_type": "markdown",
   "source": [
    "# TOUGH3 postprocessing"
   ],
   "metadata": {
    "collapsed": false
   },
   "id": "db460fcbb8fee312"
  },
  {
   "cell_type": "markdown",
   "source": [
    "- Reads output generated from the TOUGH3-FLAC3D project 2dldV6 and plots the pressure evolution in time at the injection point to evaluate the difference/effect of stress-independent permeability with stress-dependent permeability.\n",
    "- In other words, it evaluates the effect of the coupling with FLAC3D and without"
   ],
   "metadata": {
    "collapsed": false
   },
   "id": "ccecf1789af6303c"
  },
  {
   "cell_type": "code",
   "execution_count": 1,
   "id": "initial_id",
   "metadata": {
    "collapsed": true,
    "ExecuteTime": {
     "end_time": "2023-08-16T09:24:55.672276939Z",
     "start_time": "2023-08-16T09:24:54.515117972Z"
    }
   },
   "outputs": [],
   "source": [
    "# Import the required libraries\n",
    "import toughio\n",
    "import numpy as np\n",
    "import matplotlib.pyplot as plt\n",
    "import pandas as pd\n",
    "from scipy.interpolate import griddata\n",
    "from matplotlib import gridspec\n",
    "\n",
    "import matplotlib\n",
    "matplotlib.use('Qt5Agg')\n",
    "\n",
    "# setting up for plotting\n",
    "plt.rcParams['figure.dpi'] = 50\n",
    "plt.rcParams['font.size'] = 25\n",
    "plt.rcParams['text.usetex'] = True\n",
    "plt.rcParams['font.family'] = 'serif'"
   ]
  },
  {
   "cell_type": "markdown",
   "source": [
    "### Execute for both examples 2dldV6 and 2DSEP5V6\n",
    "\n",
    "-> The following cell introduces the routines to read the output from TOUGH as it is"
   ],
   "metadata": {
    "collapsed": false
   },
   "id": "c9b9128ff0a1ba32"
  },
  {
   "cell_type": "code",
   "execution_count": 2,
   "outputs": [
    {
     "name": "stdout",
     "output_type": "stream",
     "text": [
      "Found output at the following times:\n",
      "TIME [years]: 0\n",
      "TIME [years]: 0\n",
      "TIME [years]: 0\n",
      "TIME [years]: 0\n",
      "TIME [years]: 2\n",
      "TIME [years]: 5\n",
      "TIME [years]: 9\n",
      "TIME [years]: 9\n",
      "Found output at the following times:\n",
      "TIME [years]: 0\n",
      "TIME [years]: 0\n",
      "TIME [years]: 0\n",
      "TIME [years]: 0\n",
      "TIME [years]: 2\n",
      "TIME [years]: 5\n",
      "TIME [years]: 9\n"
     ]
    }
   ],
   "source": [
    "# Read the output produced by TOUGH3\n",
    "\n",
    "output_path = '/home/victor/Desktop/toughio/examples/TOUGH3-FLAC3D_examples/2dldV6/'\n",
    "folder = ['2/', '3/']\n",
    "# first_cell = ['             A11 0', '             A1152']\n",
    "output_file = 'OUTPUT_ELEME.csv'\n",
    "\n",
    "sim_data = []\n",
    "\n",
    "for s in range(len(folder)):\n",
    "    output_filepath = output_path + folder[s] + output_file\n",
    "    \n",
    "    ele_raw = pd.read_csv(output_filepath, index_col=False, usecols=[0])\n",
    "    ids_ele1 = ele_raw[ele_raw.values == '             A11 0'].index.values                                                 # 13 empty spaces before element ID, then 5 characters for element ID -> if chenges, find out with len(ele_raw.values[X,0])\n",
    "    # ids_ele1 = ele_raw[ele_raw.values == first_cell[s]].index.values\n",
    "    # ids_ele1 = ele_raw[ele_raw.values == '             A2  1'].index.values\n",
    "    ids_t = ids_ele1 - 1\n",
    "    times_raw = ele_raw.values[ids_t, 0]\n",
    "    times_corr = []\n",
    "    [times_corr.append(float(times_raw[i][11:])) for i in range(len(times_raw))]                                            # in seconds\n",
    "    # [times_corr.append(float(times_raw[i].strip())) for i in range(len(times_raw))]\n",
    "    \n",
    "    # print output times:\n",
    "    print('Found output at the following times:', )\n",
    "    [print('TIME [years]: ' + str(int(times_corr[i]/(60*60*24*365.25)))) for i in range(len(times_corr))]\n",
    "    \n",
    "    data = []\n",
    "    header_names_raw = pd.read_csv(output_filepath, nrows=0).columns\n",
    "    header_names = pd.Index([element.strip() for element in header_names_raw])\n",
    "    for j in range(len(ids_t)):\n",
    "        if j==0:    # only works if there are more than just one time output (!)\n",
    "            df = pd.read_csv(output_filepath, header=None, index_col=False, skiprows=list(range(0, ids_t[j]+2)), nrows=((ids_t[j+1]-1)-ids_t[j]))\n",
    "        elif j==(len(ids_t)-1):\n",
    "            df = pd.read_csv(output_filepath, header=None, index_col=False, skiprows=list(range(0, ids_t[j]+2)), nrows=((len(ele_raw.values)-1)-ids_t[j]))\n",
    "        else:\n",
    "            df = pd.read_csv(output_filepath, header=None, index_col=False, skiprows=list(range(0, ids_t[j]+2)), nrows=((ids_t[j+1]-1)-ids_t[j]))\n",
    "        df = df.reset_index(drop=True)\n",
    "        # added the next two lines:\n",
    "        df[0] = df[0].apply(lambda x: x.strip())\n",
    "        df.columns = header_names\n",
    "        df = df.set_index(df.columns[0])\n",
    "        data.append(df)\n",
    "    sim_data.append(data)\n",
    "    "
   ],
   "metadata": {
    "collapsed": false,
    "ExecuteTime": {
     "end_time": "2023-08-15T07:33:40.647774563Z",
     "start_time": "2023-08-15T07:33:40.468201373Z"
    }
   },
   "id": "52b18e0796bb906"
  },
  {
   "cell_type": "markdown",
   "source": [
    "### Execute only for 2dldV6\n",
    "\n",
    "-> This routine reproduces Fig. 2 from Rutqvist and Tsang (2022) and Fig. 5.6 from the TOUGH-FLAC python-package manual"
   ],
   "metadata": {
    "collapsed": false
   },
   "id": "68e76fea47a7032"
  },
  {
   "cell_type": "code",
   "execution_count": 3,
   "outputs": [],
   "source": [
    "# Collect the necessary data for plotting\n",
    "\n",
    "inj_cell = 'A1793'  # injection cell 2dldV6\n",
    "\n",
    "pres_vals = np.zeros((len(folder), len(ids_t)))\n",
    "\n",
    "for s in range(len(folder)):\n",
    "    for j in range(len(ids_t)):\n",
    "        pres_vals[s, j] = sim_data[s][j].PRES[inj_cell]"
   ],
   "metadata": {
    "collapsed": false,
    "ExecuteTime": {
     "end_time": "2023-08-15T07:33:59.044742035Z",
     "start_time": "2023-08-15T07:33:59.024250385Z"
    }
   },
   "id": "e17e9e07edb037ad"
  },
  {
   "cell_type": "code",
   "execution_count": 5,
   "outputs": [],
   "source": [
    "# Plotting 1\n",
    "\n",
    "fig = plt.figure(figsize=[12, 12])\n",
    "gs = gridspec.GridSpec(nrows=1, ncols=1)\n",
    "ax1 = fig.add_subplot(gs[0])\n",
    "\n",
    "colors = ['tab:red', 'tab:blue']\n",
    "\n",
    "for s in range(len(folder)):\n",
    "    ax1.plot(np.asarray(times_corr) / (24.0 * 365.0 * 3600.0), pres_vals[s,:] / (1.e6), c=colors[s], ls='-', lw=2)\n",
    "    \n",
    "ax1.set_xlabel('Time [years]')\n",
    "ax1.set_ylabel('Pressure at injection point [MPa]')\n",
    "\n",
    "fig.show()\n",
    "fig.savefig('2dldV6.svg')"
   ],
   "metadata": {
    "collapsed": false,
    "ExecuteTime": {
     "end_time": "2023-08-15T07:39:28.518156157Z",
     "start_time": "2023-08-15T07:39:27.325660080Z"
    }
   },
   "id": "da8ba1510848dbc2"
  },
  {
   "cell_type": "code",
   "execution_count": null,
   "outputs": [],
   "source": [
    "# Plotting 2\n",
    "\n"
   ],
   "metadata": {
    "collapsed": false
   },
   "id": "c91912de2e5edbeb"
  },
  {
   "cell_type": "markdown",
   "source": [
    "### Execute only for 2DSEP5V6\n",
    "\n",
    "-> This routine reproduces Fig. 5.11 from the TOUGH-FLAC python-package manual"
   ],
   "metadata": {
    "collapsed": false
   },
   "id": "be33f29d02ca67a5"
  },
  {
   "cell_type": "code",
   "execution_count": null,
   "outputs": [],
   "source": [],
   "metadata": {
    "collapsed": false
   },
   "id": "82781a21a70483ed"
  }
 ],
 "metadata": {
  "kernelspec": {
   "display_name": "Python 3",
   "language": "python",
   "name": "python3"
  },
  "language_info": {
   "codemirror_mode": {
    "name": "ipython",
    "version": 2
   },
   "file_extension": ".py",
   "mimetype": "text/x-python",
   "name": "python",
   "nbconvert_exporter": "python",
   "pygments_lexer": "ipython2",
   "version": "2.7.6"
  }
 },
 "nbformat": 4,
 "nbformat_minor": 5
}
